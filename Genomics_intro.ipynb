{
 "cells": [
  {
   "cell_type": "code",
   "execution_count": 27,
   "metadata": {},
   "outputs": [],
   "source": [
    "def hidden_message(text, pattern):\n",
    "    count=0\n",
    "    for i in range(len(text)-len(pattern)):\n",
    "        if text[i:i+len(pattern)]==pattern:\n",
    "            count+=1\n",
    "    return count"
   ]
  },
  {
   "cell_type": "code",
   "execution_count": 28,
   "metadata": {},
   "outputs": [
    {
     "data": {
      "text/plain": [
       "2"
      ]
     },
     "execution_count": 28,
     "metadata": {},
     "output_type": "execute_result"
    }
   ],
   "source": [
    "hidden_message('AAGGCCGCGGCCTT','GGCC')"
   ]
  },
  {
   "cell_type": "code",
   "execution_count": 46,
   "metadata": {},
   "outputs": [],
   "source": [
    "def frequent_words(text, k):\n",
    "    k_mer_dict={}\n",
    "    for i in range(len(text)-k+1):\n",
    "        try:\n",
    "            k_mer_dict[text[i:i+k]]+=1\n",
    "        except:\n",
    "            k_mer_dict[text[i:i+k]]=1\n",
    "    max_iters=max(k_mer_dict.values())\n",
    "    out=[]\n",
    "    for key in k_mer_dict.keys():\n",
    "        if k_mer_dict[key]==max_iters:\n",
    "            out.append((key,k_mer_dict[key]))\n",
    "    return out"
   ]
  },
  {
   "cell_type": "code",
   "execution_count": 47,
   "metadata": {},
   "outputs": [
    {
     "data": {
      "text/plain": [
       "[('ATA', 2), ('GGG', 2)]"
      ]
     },
     "execution_count": 47,
     "metadata": {},
     "output_type": "execute_result"
    }
   ],
   "source": [
    "frequent_words('ATATAGGGG',3)"
   ]
  },
  {
   "cell_type": "code",
   "execution_count": null,
   "metadata": {},
   "outputs": [],
   "source": []
  }
 ],
 "metadata": {
  "kernelspec": {
   "display_name": "Python 3",
   "language": "python",
   "name": "python3"
  },
  "language_info": {
   "codemirror_mode": {
    "name": "ipython",
    "version": 3
   },
   "file_extension": ".py",
   "mimetype": "text/x-python",
   "name": "python",
   "nbconvert_exporter": "python",
   "pygments_lexer": "ipython3",
   "version": "3.6.8"
  }
 },
 "nbformat": 4,
 "nbformat_minor": 2
}
